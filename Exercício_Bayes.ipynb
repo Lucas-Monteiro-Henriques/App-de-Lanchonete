{
  "nbformat": 4,
  "nbformat_minor": 0,
  "metadata": {
    "colab": {
      "provenance": [],
      "authorship_tag": "ABX9TyPFAnbZk9IvKwCcJ2PGOnLO",
      "include_colab_link": true
    },
    "kernelspec": {
      "name": "ir",
      "display_name": "R"
    },
    "language_info": {
      "name": "R"
    }
  },
  "cells": [
    {
      "cell_type": "markdown",
      "metadata": {
        "id": "view-in-github",
        "colab_type": "text"
      },
      "source": [
        "<a href=\"https://colab.research.google.com/github/Lucas-Monteiro-Henriques/App-de-Lanchonete/blob/main/Exerc%C3%ADcio_Bayes.ipynb\" target=\"_parent\"><img src=\"https://colab.research.google.com/assets/colab-badge.svg\" alt=\"Open In Colab\"/></a>"
      ]
    },
    {
      "cell_type": "code",
      "execution_count": 1,
      "metadata": {
        "colab": {
          "base_uri": "https://localhost:8080/"
        },
        "id": "lPKNzzNyYjpy",
        "outputId": "8cf70de0-f53a-4c97-fbad-45ff029947dc"
      },
      "outputs": [
        {
          "output_type": "stream",
          "name": "stderr",
          "text": [
            "Installing package into ‘/usr/local/lib/R/site-library’\n",
            "(as ‘lib’ is unspecified)\n",
            "\n",
            "This build of rgl does not include OpenGL functions.  Use\n",
            " rglwidget() to display results, e.g. via options(rgl.printRglwidget = TRUE).\n",
            "\n",
            "Installing package into ‘/usr/local/lib/R/site-library’\n",
            "(as ‘lib’ is unspecified)\n",
            "\n"
          ]
        }
      ],
      "source": [
        "install.packages(\"rgl\")\n",
        "library(rgl)\n",
        "install.packages(\"mlbench\")\n",
        "library(mlbench)"
      ]
    },
    {
      "cell_type": "markdown",
      "source": [
        "Copiando o repositório\n"
      ],
      "metadata": {
        "id": "XgA1iUyyZEb7"
      }
    },
    {
      "cell_type": "code",
      "source": [
        "data(PimaIndiansDiabetes)\n",
        "  summary(PimaIndiansDiabetes)\n",
        "\n"
      ],
      "metadata": {
        "colab": {
          "base_uri": "https://localhost:8080/",
          "height": 272
        },
        "collapsed": true,
        "id": "8nHpY0H2YwKu",
        "outputId": "987586c6-9aa7-4214-d690-c43a2de8808e"
      },
      "execution_count": 3,
      "outputs": [
        {
          "output_type": "display_data",
          "data": {
            "text/plain": [
              "    pregnant         glucose         pressure         triceps     \n",
              " Min.   : 0.000   Min.   :  0.0   Min.   :  0.00   Min.   : 0.00  \n",
              " 1st Qu.: 1.000   1st Qu.: 99.0   1st Qu.: 62.00   1st Qu.: 0.00  \n",
              " Median : 3.000   Median :117.0   Median : 72.00   Median :23.00  \n",
              " Mean   : 3.845   Mean   :120.9   Mean   : 69.11   Mean   :20.54  \n",
              " 3rd Qu.: 6.000   3rd Qu.:140.2   3rd Qu.: 80.00   3rd Qu.:32.00  \n",
              " Max.   :17.000   Max.   :199.0   Max.   :122.00   Max.   :99.00  \n",
              "    insulin           mass          pedigree           age        diabetes \n",
              " Min.   :  0.0   Min.   : 0.00   Min.   :0.0780   Min.   :21.00   neg:500  \n",
              " 1st Qu.:  0.0   1st Qu.:27.30   1st Qu.:0.2437   1st Qu.:24.00   pos:268  \n",
              " Median : 30.5   Median :32.00   Median :0.3725   Median :29.00            \n",
              " Mean   : 79.8   Mean   :31.99   Mean   :0.4719   Mean   :33.24            \n",
              " 3rd Qu.:127.2   3rd Qu.:36.60   3rd Qu.:0.6262   3rd Qu.:41.00            \n",
              " Max.   :846.0   Max.   :67.10   Max.   :2.4200   Max.   :81.00            "
            ]
          },
          "metadata": {}
        }
      ]
    },
    {
      "cell_type": "markdown",
      "source": [
        "Funções ultilizadas\n",
        "\n"
      ],
      "metadata": {
        "id": "VhLjYvKTZk0D"
      }
    },
    {
      "cell_type": "code",
      "source": [
        "gaussian_kernel <- function(x, y, h) {\n",
        "  dist_sq <- sum((x - y)^2)\n",
        "  exp(-dist_sq / (2 * h^2))\n",
        "}\n",
        "\n",
        "compute_similarity_matrix <- function(data, centers, h) {\n",
        "  n <- nrow(data)\n",
        "  m <- nrow(centers)\n",
        "  sim_matrix <- matrix(0, nrow = n, ncol = m)\n",
        "  for (i in 1:n) {\n",
        "    for (j in 1:m) {\n",
        "      sim_matrix[i, j] <- gaussian_kernel(data[i, ], centers[j, ], h)\n",
        "    }\n",
        "  }\n",
        "  sim_matrix\n",
        "}\n",
        "\n",
        "\n",
        "bayes_classifier <- function(sim_matrix, labels_train, labels_test) {\n",
        "  class1_mean <- colMeans(sim_matrix[labels_train == 1, ])\n",
        "  class2_mean <- colMeans(sim_matrix[labels_train == 2, ])\n",
        "\n",
        "  predictions <- ifelse(rowSums(sim_matrix * class1_mean) > rowSums(sim_matrix * class2_mean), 1, 2)\n",
        "\n",
        "  accuracy <- mean(predictions == labels_test)\n",
        "  accuracy\n",
        "}"
      ],
      "metadata": {
        "id": "NXzEaJwsZStk"
      },
      "execution_count": 4,
      "outputs": []
    },
    {
      "cell_type": "markdown",
      "source": [
        "Dados separados para teste"
      ],
      "metadata": {
        "id": "vaNk1kPtZyHL"
      }
    },
    {
      "cell_type": "code",
      "source": [
        "set.seed(456)\n",
        "train_indices <- sample(1:(4 * N), size = 0.7 * 4 * N)\n",
        "test_indices <- setdiff(1:(4 * N), train_indices)\n",
        "\n",
        "x_train <- xall[train_indices, ]\n",
        "x_test <- xall[test_indices, ]\n",
        "labels_train <- labels[train_indices]\n",
        "labels_test <- labels[test_indices]\n",
        "\n",
        "h_values <- seq(0.1, 2, by = 0.1)\n",
        "accuracies <- numeric(length(h_values))"
      ],
      "metadata": {
        "id": "W0rmbn_YZrzr"
      },
      "execution_count": null,
      "outputs": []
    },
    {
      "cell_type": "markdown",
      "source": [
        "For para a chamada das funções"
      ],
      "metadata": {
        "id": "KNnG44PuaDRK"
      }
    },
    {
      "cell_type": "code",
      "source": [
        "for (i in seq_along(h_values)) {\n",
        "  h <- h_values[i]\n",
        "  sim_matrix_train <- compute_similarity_matrix(x_train, x_train, h)\n",
        "  sim_matrix_test <- compute_similarity_matrix(x_test, x_train, h)\n",
        "  accuracies[i] <- bayes_classifier(sim_matrix_test, labels_train, labels_test)\n",
        "}"
      ],
      "metadata": {
        "id": "5_yU-mmgZ4Jy"
      },
      "execution_count": null,
      "outputs": []
    },
    {
      "cell_type": "markdown",
      "source": [
        "Plot da acurácia"
      ],
      "metadata": {
        "id": "DiPJioXmaPbz"
      }
    },
    {
      "cell_type": "code",
      "source": [
        "# Plotar acurácia em função de h\n",
        "plot(h_values, accuracies, type = \"b\", xlab = \"Parâmetro h\", ylab = \"Acurácia\", main = \"Desempenho do Classificador Bayesiano\")\n"
      ],
      "metadata": {
        "id": "vglcvcVcaHMD"
      },
      "execution_count": null,
      "outputs": []
    },
    {
      "cell_type": "markdown",
      "source": [
        "For para cálcular a maior acurácia"
      ],
      "metadata": {
        "id": "1-TartvnacCT"
      }
    },
    {
      "cell_type": "code",
      "source": [
        "acuracia <- accuracies[1]\n",
        "x <- 0\n",
        "for (i in seq_along(h_values)) {\n",
        "  if (acuracia <= accuracies[i]) {\n",
        "    acuracia <- accuracies[i]\n",
        "    x <- i\n",
        "  }\n",
        "}\n"
      ],
      "metadata": {
        "id": "v70nTq4JaXHZ"
      },
      "execution_count": null,
      "outputs": []
    },
    {
      "cell_type": "code",
      "source": [
        "print(i)"
      ],
      "metadata": {
        "id": "7ny9tv9TbSTZ"
      },
      "execution_count": null,
      "outputs": []
    }
  ]
}